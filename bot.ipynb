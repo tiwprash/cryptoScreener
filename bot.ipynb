{
 "cells": [
  {
   "cell_type": "code",
   "execution_count": 407,
   "metadata": {},
   "outputs": [],
   "source": [
    "import requests # Install requests module first.\n",
    "\n",
    "url = \"https://api.coindcx.com/exchange/v1/derivatives/futures/data/active_instruments\"\n",
    "\n",
    "response = requests.get(url)\n",
    "symbol = response.json()\n"
   ]
  },
  {
   "cell_type": "code",
   "execution_count": 408,
   "metadata": {},
   "outputs": [],
   "source": [
    "# symbol"
   ]
  },
  {
   "cell_type": "code",
   "execution_count": 409,
   "metadata": {},
   "outputs": [],
   "source": [
    "import time\n",
    "now = time.time()\n",
    "current_time = int(now)\n",
    "seconds_in_day = 60 * 60 * 72\n",
    "start_date = now - (seconds_in_day)\n"
   ]
  },
  {
   "cell_type": "code",
   "execution_count": 410,
   "metadata": {},
   "outputs": [],
   "source": [
    "import requests\n",
    "import talib as ta\n",
    "import numpy as np\n",
    "\n",
    "\n",
    "end_time = \"n\"\n",
    "\n",
    "def candelstick(symbol,interval):\n",
    "    url = \"https://public.coindcx.com/market_data/candlesticks\"\n",
    "    query_params = {\n",
    "        \"pair\": symbol,\n",
    "        \"from\": start_date,\n",
    "        \"to\": current_time,\n",
    "        \"resolution\": interval,  # '1' OR '5' OR '60' OR '1D'\n",
    "        \"pcode\": \"f\"\n",
    "    }\n",
    "    response = requests.get(url, params=query_params)\n",
    "    if response.status_code == 200:\n",
    "        data = response.json()\n",
    "        # Process the data as needed\n",
    "        # print(data)\n",
    "        data = data['data']\n",
    "    else:\n",
    "        print(f\"Error: {response.status_code}, {response.text}\")\n",
    "\n",
    "    close = np.array([item['close'] for item in data],dtype=np.double)\n",
    "    volume = np.array([item['volume'] for item in data],dtype=np.double)\n",
    "    high = np.array([item['high'] for item in data],dtype=np.double)\n",
    "    low = np.array([item['low'] for item in data],dtype=np.double)\n",
    "\n",
    "    upperband,middleband,lowerband = ta.BBANDS(close, timeperiod=10, nbdevup=2, nbdevdn=2, matype=0)\n",
    "\n",
    "    perc = (((upperband[-2] - lowerband[-2]) / lowerband[-2]) * 100)\n",
    "    volume_differ = (((volume[-2] - volume[-3]) / volume[-3]) * 100)\n",
    "    fastk, fastd = ta.STOCHRSI(close, timeperiod=10, fastk_period=5, fastd_period=3, fastd_matype=0)\n",
    "    rsi_diff = fastk - fastd\n",
    "    mfi = ta.MFI(high, low, close, volume, timeperiod=10)\n",
    "\n",
    "\n",
    "\n",
    "    try:\n",
    "        if close[-2] >= upperband[-2] and volume[-2] < volume[-3] and perc >= 2 and mfi[-2] >= 70:\n",
    "            print(f\"{symbol} sell {perc} & vol {volume_differ} RSI {rsi_diff[-2]} MFI {mfi[-2]} \")\n",
    "\n",
    "        elif close[-2] <= lowerband[-2] and volume[-2] < volume[-3] and perc >= 2 and  mfi[-2] <= 35:\n",
    "            print(f\"{symbol} buy {perc} {volume_differ} RSI {rsi_diff[-2]} MFI {mfi[-2]}\")\n",
    "    except:\n",
    "        pass\n",
    "\n",
    "    "
   ]
  },
  {
   "cell_type": "code",
   "execution_count": 411,
   "metadata": {},
   "outputs": [
    {
     "name": "stdout",
     "output_type": "stream",
     "text": [
      "B-TIA_USDT sell 4.944486481699166 & vol -33.51703701994605 RSI 16.611878528862903 MFI 73.9124373383889 \n",
      "B-IMX_USDT sell 2.2648559776460635 & vol -36.18274868471981 RSI 7.105427357601002e-14 MFI 76.95265857336189 \n"
     ]
    }
   ],
   "source": [
    "for i in symbol:\n",
    "    candelstick(i,\"15\")"
   ]
  },
  {
   "cell_type": "code",
   "execution_count": 412,
   "metadata": {},
   "outputs": [],
   "source": [
    "for i in symbol:\n",
    "    candelstick(i,\"30\")\n"
   ]
  },
  {
   "cell_type": "code",
   "execution_count": 413,
   "metadata": {},
   "outputs": [],
   "source": [
    "for i in symbol:\n",
    "    candelstick(i,\"60\")"
   ]
  }
 ],
 "metadata": {
  "kernelspec": {
   "display_name": "base",
   "language": "python",
   "name": "python3"
  },
  "language_info": {
   "codemirror_mode": {
    "name": "ipython",
    "version": 3
   },
   "file_extension": ".py",
   "mimetype": "text/x-python",
   "name": "python",
   "nbconvert_exporter": "python",
   "pygments_lexer": "ipython3",
   "version": "3.11.3"
  }
 },
 "nbformat": 4,
 "nbformat_minor": 2
}
